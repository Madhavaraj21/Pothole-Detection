{
 "cells": [
  {
   "cell_type": "code",
   "execution_count": 1,
   "id": "a28cc448",
   "metadata": {},
   "outputs": [],
   "source": [
    "import torch\n",
    "import cv2\n",
    "import time\n",
    "import pytesseract\n",
    "import re\n",
    "import numpy as np"
   ]
  },
  {
   "cell_type": "code",
   "execution_count": null,
   "id": "f4f89072",
   "metadata": {},
   "outputs": [],
   "source": [
    "!pip install pytesseract"
   ]
  },
  {
   "cell_type": "code",
   "execution_count": 2,
   "id": "fe6a19ef",
   "metadata": {},
   "outputs": [],
   "source": [
    "def detectx (frame, model):\n",
    "    frame = [frame]\n",
    "    print(f\"[INFO] Detecting. . . \")\n",
    "    results = model(frame)\n",
    "    labels, cordinates = results.xyxyn[0][:, -1], results.xyxyn[0][:, :-1]\n",
    "    return labels, cordinates"
   ]
  },
  {
   "cell_type": "code",
   "execution_count": 3,
   "id": "14be9442",
   "metadata": {},
   "outputs": [],
   "source": [
    "def plot_boxes(results, frame,classes):\n",
    "    \n",
    "    labels, cord = results\n",
    "    n = len(labels)\n",
    "    x_shape, y_shape = frame.shape[1], frame.shape[0]\n",
    "\n",
    "    print(f\"[INFO] Total {n} detections. . . \")\n",
    "    print(f\"[INFO] Looping through all detections. . . \")\n",
    "\n",
    "\n",
    "    for i in range(n):\n",
    "        row = cord[i]\n",
    "        if row[4] >= 0.30:\n",
    "            print(f\"[INFO] Extracting BBox coordinates. . . \")\n",
    "            x1, y1, x2, y2 = int(row[0]*x_shape), int(row[1]*y_shape), int(row[2]*x_shape), int(row[3]*y_shape) ## BBOx coordniates\n",
    "            text_d = classes[int(labels[i])]\n",
    "\n",
    "            coords = [x1,y1,x2,y2]\n",
    "\n",
    "            cv2.rectangle(frame, (x1, y1), (x2, y2), (0, 255, 0), 2)\n",
    "            cv2.rectangle(frame, (x1, y1-20), (x2, y1), (0, 255,0), -1) \n",
    "\n",
    "    return frame"
   ]
  },
  {
   "cell_type": "code",
   "execution_count": 4,
   "id": "a73fe645",
   "metadata": {},
   "outputs": [],
   "source": [
    "def main(img_path=None, vid_path=None,vid_out = None):\n",
    "\n",
    "    print(f\"[INFO] Loading model... \")\n",
    "    model =  torch.hub.load(\"./yolov5\", 'custom', source ='local', path='best.pt',force_reload=True) \n",
    "\n",
    "    classes = model.names\n",
    "\n",
    "    if img_path != None:\n",
    "        print(f\"[INFO] Working with image: {img_path}\")\n",
    "        img_out_name = f\"./output/result_{img_path.split('/')[-1]}\"\n",
    "\n",
    "        frame = cv2.imread(img_path)\n",
    "        frame = cv2.cvtColor(frame,cv2.COLOR_BGR2RGB)\n",
    "        \n",
    "        results = detectx(frame, model = model)   \n",
    "\n",
    "        frame = cv2.cvtColor(frame,cv2.COLOR_RGB2BGR)\n",
    "\n",
    "        frame = plot_boxes(results, frame,classes = classes)\n",
    "        \n",
    "        cv2.namedWindow(\"img_only\", cv2.WINDOW_NORMAL)\n",
    "\n",
    "        while True:\n",
    "            cv2.imshow(\"img_only\", frame)\n",
    "            if cv2.waitKey(5) & 0xFF == ord('q'):\n",
    "                print(f\"[INFO] Exiting. . . \")\n",
    "                cv2.imwrite(f\"{img_out_name}\",frame)\n",
    "                break\n",
    "    cv2.destroyAllWindows()\n",
    "    \n",
    "\n",
    "    if vid_path != None:\n",
    "        print(f\"[INFO] Working with video: {vid_path}\")\n",
    "\n",
    "        cap = cv2.VideoCapture(vid_path)\n",
    "\n",
    "        if vid_out:\n",
    "\n",
    "            width = int(cap.get(cv2.CAP_PROP_FRAME_WIDTH))\n",
    "            height = int(cap.get(cv2.CAP_PROP_FRAME_HEIGHT))\n",
    "            fps = int(cap.get(cv2.CAP_PROP_FPS))\n",
    "            codec=cv2.VideoWriter_fourcc(*'MP4V')\n",
    "            out = cv2.VideoWriter(vid_out, codec, fps, (width, height))\n",
    "\n",
    "        assert cap.isOpened()\n",
    "        frame_no = 1\n",
    "\n",
    "        cv2.namedWindow(\"vid_out\", cv2.WINDOW_NORMAL)\n",
    "        while True:\n",
    "            ret, frame = cap.read()\n",
    "            if ret  and frame_no %1 == 0:\n",
    "                print(f\"[INFO] Working with frame {frame_no} \")\n",
    "\n",
    "                frame = cv2.cvtColor(frame,cv2.COLOR_BGR2RGB)\n",
    "                results = detectx(frame, model = model)\n",
    "                \n",
    "                frame = cv2.cvtColor(frame,cv2.COLOR_RGB2BGR)\n",
    "\n",
    "\n",
    "                frame = plot_boxes(results, frame,classes = classes)\n",
    "                \n",
    "                cv2.imshow(\"vid_out\", frame)\n",
    "                if vid_out:\n",
    "                    print(f\"[INFO] Saving output video. . . \")\n",
    "                    out.write(frame)\n",
    "\n",
    "                if cv2.waitKey(5) & 0xFF == ord('q'):\n",
    "                    break\n",
    "                frame_no += 1\n",
    "        \n",
    "        print(f\"[INFO] Clening up. . . \")\n",
    "        out.release()\n",
    "        \n",
    "    cv2.destroyAllWindows()\n",
    "    "
   ]
  },
  {
   "cell_type": "code",
   "execution_count": 6,
   "id": "35c7922e",
   "metadata": {
    "scrolled": false
   },
   "outputs": [
    {
     "name": "stdout",
     "output_type": "stream",
     "text": [
      "[INFO] Loading model... \n"
     ]
    },
    {
     "name": "stderr",
     "output_type": "stream",
     "text": [
      "YOLOv5  v7.0-72-g064365d Python-3.9.16 torch-1.8.2+cu111 CUDA:0 (NVIDIA GeForce GTX 1660 Ti, 6144MiB)\n",
      "\n",
      "Fusing layers... \n",
      "Model summary: 157 layers, 7012822 parameters, 0 gradients\n",
      "Adding AutoShape... \n"
     ]
    },
    {
     "name": "stdout",
     "output_type": "stream",
     "text": [
      "[INFO] Working with image: C:\\Users\\Jayasuriya\\Downloads\\img-39_jpg.rf.a4ba4e9ad51da5bf7e864ca580d09931.jpg\n",
      "[INFO] Detecting. . . \n",
      "[INFO] Total 2 detections. . . \n",
      "[INFO] Looping through all detections. . . \n",
      "[INFO] Extracting BBox coordinates. . . \n",
      "[INFO] Exiting. . . \n"
     ]
    }
   ],
   "source": [
    "#main(vid_path=r\"C:\\Users\\Jayasuriya\\Downloads\\WhatsApp Video 2023-05-02 at 4.09.47 PM.mp4\",vid_out=\"PXL_20220913_080309491.mov\") ### for custom video\n",
    "#main(vid_path=0,vid_out=\"webcam_facemask_result.mp4\") #### for webcam\n",
    "main(img_path=r\"C:\\Users\\Jayasuriya\\Downloads\\img-39_jpg.rf.a4ba4e9ad51da5bf7e864ca580d09931.jpg\") ## for image"
   ]
  },
  {
   "cell_type": "raw",
   "id": "694df29b",
   "metadata": {},
   "source": [
    "\n",
    "\n",
    "\n"
   ]
  },
  {
   "cell_type": "code",
   "execution_count": null,
   "id": "31c9103e",
   "metadata": {},
   "outputs": [],
   "source": []
  }
 ],
 "metadata": {
  "kernelspec": {
   "display_name": "Python 3 (ipykernel)",
   "language": "python",
   "name": "python3"
  },
  "language_info": {
   "codemirror_mode": {
    "name": "ipython",
    "version": 3
   },
   "file_extension": ".py",
   "mimetype": "text/x-python",
   "name": "python",
   "nbconvert_exporter": "python",
   "pygments_lexer": "ipython3",
   "version": "3.9.16"
  }
 },
 "nbformat": 4,
 "nbformat_minor": 5
}
